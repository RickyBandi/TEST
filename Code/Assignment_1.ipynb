{
  "nbformat": 4,
  "nbformat_minor": 0,
  "metadata": {
    "colab": {
      "provenance": [],
      "authorship_tag": "ABX9TyN0QndxMVwsUzRbDPZXuw0P",
      "include_colab_link": true
    },
    "kernelspec": {
      "name": "python3",
      "display_name": "Python 3"
    },
    "language_info": {
      "name": "python"
    }
  },
  "cells": [
    {
      "cell_type": "markdown",
      "metadata": {
        "id": "view-in-github",
        "colab_type": "text"
      },
      "source": [
        "<a href=\"https://colab.research.google.com/github/RickyBandi/EXPLAINABLE-AI/blob/main/Assignment_1.ipynb\" target=\"_parent\"><img src=\"https://colab.research.google.com/assets/colab-badge.svg\" alt=\"Open In Colab\"/></a>"
      ]
    },
    {
      "cell_type": "code",
      "source": [
        "import pandas as pd\n",
        "import numpy as np\n",
        "from sklearn.linear_model import LinearRegression\n",
        "from sklearn.metrics import r2_score, mean_squared_error, mean_absolute_error\n",
        "\n",
        "\n",
        "# 1. Dataset\n",
        "\n",
        "data = {\n",
        "    \"GoogleAds_(₹1000s)\": [1, 2, 3, 1, 2],\n",
        "    \"BooksSold\": [100, 130, 160, 110, 140]\n",
        "}\n",
        "df = pd.DataFrame(data)"
      ],
      "metadata": {
        "id": "T5yxXscJkI1W"
      },
      "execution_count": 2,
      "outputs": []
    },
    {
      "cell_type": "code",
      "source": [
        "# 2. Baseline value\n",
        "\n",
        "baseline = df[\"BooksSold\"].mean()\n",
        "print(f\"Baseline value: {baseline}\")"
      ],
      "metadata": {
        "colab": {
          "base_uri": "https://localhost:8080/"
        },
        "id": "zaUsKwHekOlU",
        "outputId": "836b0c1c-0068-43cb-94f1-f4fadaa2952f"
      },
      "execution_count": 3,
      "outputs": [
        {
          "output_type": "stream",
          "name": "stdout",
          "text": [
            "Baseline value: 128.0\n"
          ]
        }
      ]
    },
    {
      "cell_type": "code",
      "source": [
        "# 3. Linear Regression\n",
        "\n",
        "X = df[[\"GoogleAds_(₹1000s)\"]]\n",
        "y = df[\"BooksSold\"]\n",
        "\n",
        "model = LinearRegression()\n",
        "model.fit(X, y)\n",
        "\n",
        "intercept = model.intercept_\n",
        "coef = model.coef_[0]"
      ],
      "metadata": {
        "id": "25jrgUt1kXQJ"
      },
      "execution_count": 4,
      "outputs": []
    },
    {
      "cell_type": "code",
      "source": [
        "# 4. Predictions and SHAP Values\n",
        "df[\"Predicted_BooksSold\"] = model.predict(X).round(2)\n",
        "df[\"Baseline\"] = round(baseline, 2)\n",
        "df[\"SHAP\"] = (df[\"Predicted_BooksSold\"] - baseline).round(2)\n",
        "df[\"Baseline+SHAP\"] = (df[\"Baseline\"] + df[\"SHAP\"]).round(2)\n",
        "df[\"Residual\"] = (df[\"BooksSold\"] - df[\"Predicted_BooksSold\"]).round(2)\n",
        "df[\"Over/Under\"] = df[\"Residual\"].apply(\n",
        "    lambda r: \"Underprediction\" if r > 0 else (\"Overprediction\" if r < 0 else \"Exact\")\n",
        ")\n",
        "\n",
        "print(\"\\nSHAP Table:\\n\")\n",
        "print(df)"
      ],
      "metadata": {
        "id": "VOEotgookjq4",
        "colab": {
          "base_uri": "https://localhost:8080/"
        },
        "outputId": "b7365e8c-095e-449a-8350-f7daacc6ff0f"
      },
      "execution_count": 7,
      "outputs": [
        {
          "output_type": "stream",
          "name": "stdout",
          "text": [
            "\n",
            "SHAP Table:\n",
            "\n",
            "   GoogleAds_(₹1000s)  BooksSold  Predicted_BooksSold  Baseline   SHAP  \\\n",
            "0                   1        100               105.71     128.0 -22.29   \n",
            "1                   2        130               133.57     128.0   5.57   \n",
            "2                   3        160               161.43     128.0  33.43   \n",
            "3                   1        110               105.71     128.0 -22.29   \n",
            "4                   2        140               133.57     128.0   5.57   \n",
            "\n",
            "   Baseline+SHAP  Residual       Over/Under  Residual_(Actual-Predicted)  \\\n",
            "0         105.71     -5.71   Overprediction                        -5.71   \n",
            "1         133.57     -3.57   Overprediction                        -3.57   \n",
            "2         161.43     -1.43   Overprediction                        -1.43   \n",
            "3         105.71      4.29  Underprediction                         4.29   \n",
            "4         133.57      6.43  Underprediction                         6.43   \n",
            "\n",
            "                        Over_Under  \n",
            "0  Overprediction (model too high)  \n",
            "1  Overprediction (model too high)  \n",
            "2  Overprediction (model too high)  \n",
            "3  Underprediction (model too low)  \n",
            "4  Underprediction (model too low)  \n"
          ]
        }
      ]
    },
    {
      "cell_type": "code",
      "source": [
        "# 5. Residuals & Over/Under\n",
        "\n",
        "df[\"Residual_(Actual-Predicted)\"] = (df[\"BooksSold\"] - df[\"Predicted_BooksSold\"]).round(4)\n",
        "df[\"Over_Under\"] = df[\"Residual_(Actual-Predicted)\"].apply(\n",
        "    lambda r: \"Underprediction (model too low)\" if r > 0\n",
        "    else (\"Overprediction (model too high)\" if r < 0 else \"Exact\")\n",
        ")"
      ],
      "metadata": {
        "id": "Ak6NmJU9ko8l"
      },
      "execution_count": 8,
      "outputs": []
    },
    {
      "cell_type": "code",
      "source": [
        "# 6. Model performance\n",
        "\n",
        "r2 = r2_score(y, df[\"Predicted_BooksSold\"])\n",
        "mse = mean_squared_error(y, df[\"Predicted_BooksSold\"])\n",
        "mae = mean_absolute_error(y, df[\"Predicted_BooksSold\"])"
      ],
      "metadata": {
        "id": "On5BoZ7Jkqhq"
      },
      "execution_count": 9,
      "outputs": []
    },
    {
      "cell_type": "code",
      "source": [
        "# 7. Output results\n",
        "\n",
        "print(\"Linear Regression Model\")\n",
        "print(f\"Predicted_BooksSold = {intercept:.4f} + {coef:.4f} × GoogleAds_(₹1000s)\")\n",
        "print(f\"Intercept: {intercept:.4f}\")\n",
        "print(f\"Coefficient: {coef:.4f} (books per ₹1000 Google Ads)\")\n",
        "print(\"\\nBaseline\")\n",
        "print(f\"Baseline (mean BooksSold): {baseline:.4f}\")\n",
        "\n",
        "print(\"\\nModel Performance\")\n",
        "print(f\"R-squared: {r2:.4f}\")\n",
        "print(f\"MSE: {mse:.4f}\")\n",
        "print(f\"MAE: {mae:.4f}\")\n",
        "\n",
        "print(\"\\nDetailed Table\")\n",
        "print(df.to_string(index=False))"
      ],
      "metadata": {
        "colab": {
          "base_uri": "https://localhost:8080/"
        },
        "id": "xjSuaMfikwfA",
        "outputId": "d039125a-38ab-4729-cf13-a052e7cc95de"
      },
      "execution_count": 10,
      "outputs": [
        {
          "output_type": "stream",
          "name": "stdout",
          "text": [
            "Linear Regression Model\n",
            "Predicted_BooksSold = 77.8571 + 27.8571 × GoogleAds_(₹1000s)\n",
            "Intercept: 77.8571\n",
            "Coefficient: 27.8571 (books per ₹1000 Google Ads)\n",
            "\n",
            "Baseline\n",
            "Baseline (mean BooksSold): 128.0000\n",
            "\n",
            "Model Performance\n",
            "R-squared: 0.9530\n",
            "MSE: 21.4286\n",
            "MAE: 4.2860\n",
            "\n",
            "Detailed Table\n",
            " GoogleAds_(₹1000s)  BooksSold  Predicted_BooksSold  Baseline   SHAP  Baseline+SHAP  Residual      Over/Under  Residual_(Actual-Predicted)                      Over_Under\n",
            "                  1        100               105.71     128.0 -22.29         105.71     -5.71  Overprediction                        -5.71 Overprediction (model too high)\n",
            "                  2        130               133.57     128.0   5.57         133.57     -3.57  Overprediction                        -3.57 Overprediction (model too high)\n",
            "                  3        160               161.43     128.0  33.43         161.43     -1.43  Overprediction                        -1.43 Overprediction (model too high)\n",
            "                  1        110               105.71     128.0 -22.29         105.71      4.29 Underprediction                         4.29 Underprediction (model too low)\n",
            "                  2        140               133.57     128.0   5.57         133.57      6.43 Underprediction                         6.43 Underprediction (model too low)\n"
          ]
        }
      ]
    },
    {
      "cell_type": "code",
      "source": [
        "#8. Summary\n",
        "summary = f\"\"\"\n",
        "Summary Analysis\n",
        "\n",
        "1. Model Accuracy\n",
        "   - R² Score: {r2:.3f}\n",
        "   - Mean Squared Error (MSE): {mse:.2f}\n",
        "   - Mean Absolute Error (MAE): {mae:.2f}\n",
        "\n",
        "   The model explains about {r2*100:.1f}% of the variance in book sales, which is fairly good for such a small dataset.\n",
        "\n",
        "2. Trend Analysis\n",
        "   - As Google Ads spending increases, predicted book sales also increase linearly.\n",
        "   - This shows a positive correlation between ad spend and weekly sales.\n",
        "\n",
        "3. SHAP Interpretation\n",
        "   - SHAP values show how far each prediction moves away from the baseline (mean = {baseline:.2f}).\n",
        "   - For example, spending ₹3,000 on ads adds +33.43 books above baseline,\n",
        "     while spending only ₹1,000 reduces sales prediction by -22.29 books.\n",
        "\n",
        "4. Over/Under Prediction\n",
        "   - For some records (e.g., Ads = 1), the model slightly overpredicts sales compared to actual.\n",
        "   - For others (e.g., Ads = 2 with 140 actual), the model underpredicts.\n",
        "   - This is expected since a simple linear regression cannot perfectly capture all variations.\n",
        "\n",
        "Conclusion:\n",
        "The regression model confirms that higher ad spending increases book sales.\n",
        "SHAP values clearly attribute sales differences to ad spend, making the model explainable and interpretable.\n",
        "\"\"\"\n",
        "\n",
        "print(summary)"
      ],
      "metadata": {
        "colab": {
          "base_uri": "https://localhost:8080/"
        },
        "id": "AEeYYWL_n8ZZ",
        "outputId": "52319af3-d95b-44fe-d338-426d2b6b607c"
      },
      "execution_count": 13,
      "outputs": [
        {
          "output_type": "stream",
          "name": "stdout",
          "text": [
            "\n",
            "Summary Analysis\n",
            "\n",
            "1. Model Accuracy\n",
            "   - R² Score: 0.953\n",
            "   - Mean Squared Error (MSE): 21.43\n",
            "   - Mean Absolute Error (MAE): 4.29\n",
            "\n",
            "   The model explains about 95.3% of the variance in book sales, which is fairly good for such a small dataset.\n",
            "\n",
            "2. Trend Analysis\n",
            "   - As Google Ads spending increases, predicted book sales also increase linearly.\n",
            "   - This shows a positive correlation between ad spend and weekly sales.\n",
            "\n",
            "3. SHAP Interpretation\n",
            "   - SHAP values show how far each prediction moves away from the baseline (mean = 128.00).\n",
            "   - For example, spending ₹3,000 on ads adds +33.43 books above baseline,\n",
            "     while spending only ₹1,000 reduces sales prediction by -22.29 books.\n",
            "\n",
            "4. Over/Under Prediction\n",
            "   - For some records (e.g., Ads = 1), the model slightly overpredicts sales compared to actual.\n",
            "   - For others (e.g., Ads = 2 with 140 actual), the model underpredicts.\n",
            "   - This is expected since a simple linear regression cannot perfectly capture all variations.\n",
            "\n",
            "Conclusion:  \n",
            "The regression model confirms that higher ad spending increases book sales.\n",
            "SHAP values clearly attribute sales differences to ad spend, making the model explainable and interpretable.\n",
            "\n"
          ]
        }
      ]
    }
  ]
}